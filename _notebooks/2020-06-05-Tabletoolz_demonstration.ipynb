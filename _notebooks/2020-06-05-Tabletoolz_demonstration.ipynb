{
 "cells": [
  {
   "cell_type": "markdown",
   "metadata": {},
   "source": [
    "# Tabletoolz demonstration\n",
    "> Tabletoolz is a python library which provides users with data manipulation methods used in libraries such as R’s Dplyr to manipulate tables in SQL and Pyspark.\n",
    "\n",
    "- toc: true \n",
    "- comments: true\n",
    "- author: Daniel Lew\n"
    "- categories: [jupyter, data_manipulation, project]\n",
   ]
  },
  {
   "cell_type": "markdown",
   "metadata": {},
   "source": [
    "# About"
   ]
  },
  {
   "cell_type": "markdown",
   "metadata": {},
   "source": [
    "In my last post, I wrote about my motivations, methods and results on Tabletoolz. This post will give a demonstration of how the Tabletoolz library can be used."
   ]
  },
  {
   "cell_type": "code",
   "execution_count": 4,
   "metadata": {},
   "outputs": [
    {
     "output_type": "stream",
     "name": "stdout",
     "text": "/bin/sh: -c: line 0: syntax error near unexpected token `my_icons/dplyr.png'\n/bin/sh: -c: line 0: `[](my_icons/dplyr.png)'\n"
    }
   ],
   "source": [
    "![](my_icons/dplyr.png)"
   ]
  },
  {
   "cell_type": "markdown",
   "metadata": {},
   "source": [
    "The libraries we will be working with are `SqlAlchemy` and `TableToolz`."
   ]
  },
  {
   "cell_type": "code",
   "execution_count": 13,
   "metadata": {},
   "outputs": [],
   "source": [
    "# imports\n",
    "import tabletoolz.sql as tbs\n",
    "from tabletoolz.sql import T, D\n",
    "from sqlalchemy.orm import sessionmaker\n",
    "from sqlalchemy import create_engine\n",
    "from sqlalchemy.ext.automap import automap_base;"
   ]
  },
  {
   "cell_type": "code",
   "execution_count": 2,
   "metadata": {},
   "outputs": [],
   "source": [
    "# Set-up the database\n",
    "engine = create_engine(\"sqlite:///tabletoolz/databases/Car_Database.db\")\n",
    "Base = automap_base()\n",
    "Base.prepare(engine, reflect=True)\n",
    "\n",
    "# Assign the tables\n",
    "brands = Base.classes.Brands\n",
    "car_options = Base.classes.Car_Options\n",
    "car_vins = Base.classes.Car_Vins\n",
    "customer_ownership = Base.classes.Customer_Ownership\n",
    "dealers = Base.classes.Dealers\n",
    "manufacture_plant = Base.classes.Manufacture_Plant\n",
    "models = Base.classes.Models"
   ]
  },
  {
   "cell_type": "markdown",
   "metadata": {},
   "source": [
    "In Python, libaries such as `dfply` makes function chaining possible through the use of pipes which is similar to R's `dplyr`. `Tabletoolz_Sql` borrows from `dfply` to achieve this method of data manipulation."
   ]
  },
  {
   "cell_type": "markdown",
   "metadata": {},
   "source": [
    "After loading your tables,\n",
    "\n",
    "> Important: every operation begins by turning a table into a statement."
   ]
  },
  {
   "cell_type": "code",
   "execution_count": 3,
   "metadata": {},
   "outputs": [],
   "source": [
    "df = car_options >> tbs.to_statement"
   ]
  },
  {
   "cell_type": "markdown",
   "metadata": {},
   "source": [
    "> Tip: Statements can be printed in the SQL format. "
   ]
  },
  {
   "cell_type": "code",
   "execution_count": 4,
   "metadata": {},
   "outputs": [
    {
     "name": "stdout",
     "output_type": "stream",
     "text": [
      "SELECT \"Car_Options\".option_set_id,\n",
      "       \"Car_Options\".model_id,\n",
      "       \"Car_Options\".engine_id,\n",
      "       \"Car_Options\".transmission_id,\n",
      "       \"Car_Options\".chassis_id,\n",
      "       \"Car_Options\".premium_sound_id,\n",
      "       \"Car_Options\".color,\n",
      "       \"Car_Options\".option_set_price\n",
      "FROM \"Car_Options\"\n"
     ]
    }
   ],
   "source": [
    "df = car_options >> tbs.to_statement >> tbs.pprint"
   ]
  },
  {
   "cell_type": "markdown",
   "metadata": {},
   "source": [
    "## A common data manipulation task"
   ]
  },
  {
   "cell_type": "markdown",
   "metadata": {},
   "source": [
    "Let's say we want to compute the `Mean` of the model base prices. We can begin by turning the table into a statement. Group-by our column of interest and compute the Mean statistic. Finally, we can select the columns we want to output and turn it into a dataframe."
   ]
  },
  {
   "cell_type": "code",
   "execution_count": 5,
   "metadata": {},
   "outputs": [],
   "source": [
    "Mean = tbs.sql_func('avg')"
   ]
  },
  {
   "cell_type": "code",
   "execution_count": 6,
   "metadata": {},
   "outputs": [
    {
     "data": {
      "text/html": [
       "<div>\n",
       "<style scoped>\n",
       "    .dataframe tbody tr th:only-of-type {\n",
       "        vertical-align: middle;\n",
       "    }\n",
       "\n",
       "    .dataframe tbody tr th {\n",
       "        vertical-align: top;\n",
       "    }\n",
       "\n",
       "    .dataframe thead th {\n",
       "        text-align: right;\n",
       "    }\n",
       "</style>\n",
       "<table border=\"1\" class=\"dataframe\">\n",
       "  <thead>\n",
       "    <tr style=\"text-align: right;\">\n",
       "      <th></th>\n",
       "      <th>brand_id</th>\n",
       "      <th>model_base_prices</th>\n",
       "    </tr>\n",
       "  </thead>\n",
       "  <tbody>\n",
       "    <tr>\n",
       "      <th>0</th>\n",
       "      <td>1</td>\n",
       "      <td>25666.666667</td>\n",
       "    </tr>\n",
       "    <tr>\n",
       "      <th>1</th>\n",
       "      <td>2</td>\n",
       "      <td>24666.666667</td>\n",
       "    </tr>\n",
       "    <tr>\n",
       "      <th>2</th>\n",
       "      <td>3</td>\n",
       "      <td>14666.666667</td>\n",
       "    </tr>\n",
       "    <tr>\n",
       "      <th>3</th>\n",
       "      <td>4</td>\n",
       "      <td>102500.000000</td>\n",
       "    </tr>\n",
       "    <tr>\n",
       "      <th>4</th>\n",
       "      <td>5</td>\n",
       "      <td>32500.000000</td>\n",
       "    </tr>\n",
       "  </tbody>\n",
       "</table>\n",
       "</div>"
      ],
      "text/plain": [
       "   brand_id  model_base_prices\n",
       "0         1       25666.666667\n",
       "1         2       24666.666667\n",
       "2         3       14666.666667\n",
       "3         4      102500.000000\n",
       "4         5       32500.000000"
      ]
     },
     "execution_count": 6,
     "metadata": {},
     "output_type": "execute_result"
    }
   ],
   "source": [
    "# Mutate\n",
    "df = (models \n",
    "      >> tbs.to_statement \n",
    "      >> tbs.group_by([T.brand_id]) \n",
    "      >> tbs.mutate(model_base_prices = Mean(T.model_base_price)) \n",
    "      >> tbs.select([T.brand_id,'model_base_prices'])\n",
    "      >> tbs.head(num=5) \n",
    "      >> tbs.to_pandas(engine)); df"
   ]
  },
  {
   "cell_type": "markdown",
   "metadata": {},
   "source": [
    "## Other data manipulation tasks"
   ]
  },
  {
   "cell_type": "markdown",
   "metadata": {},
   "source": [
    "### Arrange"
   ]
  },
  {
   "cell_type": "markdown",
   "metadata": {},
   "source": [
    "Columns can be arranged either in ascending or descending order."
   ]
  },
  {
   "cell_type": "code",
   "execution_count": 16,
   "metadata": {},
   "outputs": [
    {
     "data": {
      "text/html": [
       "<div>\n",
       "<style scoped>\n",
       "    .dataframe tbody tr th:only-of-type {\n",
       "        vertical-align: middle;\n",
       "    }\n",
       "\n",
       "    .dataframe tbody tr th {\n",
       "        vertical-align: top;\n",
       "    }\n",
       "\n",
       "    .dataframe thead th {\n",
       "        text-align: right;\n",
       "    }\n",
       "</style>\n",
       "<table border=\"1\" class=\"dataframe\">\n",
       "  <thead>\n",
       "    <tr style=\"text-align: right;\">\n",
       "      <th></th>\n",
       "      <th>option_set_id</th>\n",
       "      <th>model_id</th>\n",
       "      <th>engine_id</th>\n",
       "      <th>transmission_id</th>\n",
       "      <th>chassis_id</th>\n",
       "      <th>premium_sound_id</th>\n",
       "      <th>color</th>\n",
       "      <th>option_set_price</th>\n",
       "    </tr>\n",
       "  </thead>\n",
       "  <tbody>\n",
       "    <tr>\n",
       "      <th>0</th>\n",
       "      <td>26</td>\n",
       "      <td>11</td>\n",
       "      <td>2</td>\n",
       "      <td>4</td>\n",
       "      <td>6</td>\n",
       "      <td>NaN</td>\n",
       "      <td>Magenta</td>\n",
       "      <td>200</td>\n",
       "    </tr>\n",
       "    <tr>\n",
       "      <th>1</th>\n",
       "      <td>25</td>\n",
       "      <td>1</td>\n",
       "      <td>2</td>\n",
       "      <td>4</td>\n",
       "      <td>7</td>\n",
       "      <td>NaN</td>\n",
       "      <td>Red</td>\n",
       "      <td>900</td>\n",
       "    </tr>\n",
       "    <tr>\n",
       "      <th>2</th>\n",
       "      <td>12</td>\n",
       "      <td>1</td>\n",
       "      <td>1</td>\n",
       "      <td>4</td>\n",
       "      <td>7</td>\n",
       "      <td>NaN</td>\n",
       "      <td>Black</td>\n",
       "      <td>1100</td>\n",
       "    </tr>\n",
       "    <tr>\n",
       "      <th>3</th>\n",
       "      <td>3</td>\n",
       "      <td>6</td>\n",
       "      <td>1</td>\n",
       "      <td>4</td>\n",
       "      <td>7</td>\n",
       "      <td>5.0</td>\n",
       "      <td>Green</td>\n",
       "      <td>1100</td>\n",
       "    </tr>\n",
       "    <tr>\n",
       "      <th>4</th>\n",
       "      <td>2</td>\n",
       "      <td>5</td>\n",
       "      <td>2</td>\n",
       "      <td>4</td>\n",
       "      <td>6</td>\n",
       "      <td>5.0</td>\n",
       "      <td>Yellow</td>\n",
       "      <td>1200</td>\n",
       "    </tr>\n",
       "  </tbody>\n",
       "</table>\n",
       "</div>"
      ],
      "text/plain": [
       "   option_set_id  model_id  engine_id  transmission_id  chassis_id  \\\n",
       "0             26        11          2                4           6   \n",
       "1             25         1          2                4           7   \n",
       "2             12         1          1                4           7   \n",
       "3              3         6          1                4           7   \n",
       "4              2         5          2                4           6   \n",
       "\n",
       "   premium_sound_id    color  option_set_price  \n",
       "0               NaN  Magenta               200  \n",
       "1               NaN      Red               900  \n",
       "2               NaN    Black              1100  \n",
       "3               5.0    Green              1100  \n",
       "4               5.0   Yellow              1200  "
      ]
     },
     "execution_count": 16,
     "metadata": {},
     "output_type": "execute_result"
    }
   ],
   "source": [
    "df = (car_options \n",
    "      >> tbs.to_statement \n",
    "      >> tbs.arrange([T.option_set_price, T.model_id, \"engine_id\"], ascending=True)\n",
    "      >> tbs.head(num=5) \n",
    "      >> tbs.to_pandas(engine)); df"
   ]
  },
  {
   "cell_type": "markdown",
   "metadata": {},
   "source": [
    "### Renaming a column"
   ]
  },
  {
   "cell_type": "code",
   "execution_count": 8,
   "metadata": {},
   "outputs": [
    {
     "data": {
      "text/html": [
       "<div>\n",
       "<style scoped>\n",
       "    .dataframe tbody tr th:only-of-type {\n",
       "        vertical-align: middle;\n",
       "    }\n",
       "\n",
       "    .dataframe tbody tr th {\n",
       "        vertical-align: top;\n",
       "    }\n",
       "\n",
       "    .dataframe thead th {\n",
       "        text-align: right;\n",
       "    }\n",
       "</style>\n",
       "<table border=\"1\" class=\"dataframe\">\n",
       "  <thead>\n",
       "    <tr style=\"text-align: right;\">\n",
       "      <th></th>\n",
       "      <th>option_set_id</th>\n",
       "      <th>model_id</th>\n",
       "      <th>engine_id</th>\n",
       "      <th>transmission_id</th>\n",
       "      <th>chassis_id</th>\n",
       "      <th>premium_sound_id</th>\n",
       "      <th>COLOUR</th>\n",
       "      <th>PRICE</th>\n",
       "    </tr>\n",
       "  </thead>\n",
       "  <tbody>\n",
       "    <tr>\n",
       "      <th>0</th>\n",
       "      <td>1</td>\n",
       "      <td>4</td>\n",
       "      <td>2</td>\n",
       "      <td>4</td>\n",
       "      <td>6</td>\n",
       "      <td>5</td>\n",
       "      <td>Blue</td>\n",
       "      <td>2000</td>\n",
       "    </tr>\n",
       "    <tr>\n",
       "      <th>1</th>\n",
       "      <td>2</td>\n",
       "      <td>5</td>\n",
       "      <td>2</td>\n",
       "      <td>4</td>\n",
       "      <td>6</td>\n",
       "      <td>5</td>\n",
       "      <td>Yellow</td>\n",
       "      <td>1200</td>\n",
       "    </tr>\n",
       "    <tr>\n",
       "      <th>2</th>\n",
       "      <td>3</td>\n",
       "      <td>6</td>\n",
       "      <td>1</td>\n",
       "      <td>4</td>\n",
       "      <td>7</td>\n",
       "      <td>5</td>\n",
       "      <td>Green</td>\n",
       "      <td>1100</td>\n",
       "    </tr>\n",
       "    <tr>\n",
       "      <th>3</th>\n",
       "      <td>4</td>\n",
       "      <td>15</td>\n",
       "      <td>1</td>\n",
       "      <td>4</td>\n",
       "      <td>7</td>\n",
       "      <td>5</td>\n",
       "      <td>Red</td>\n",
       "      <td>4000</td>\n",
       "    </tr>\n",
       "    <tr>\n",
       "      <th>4</th>\n",
       "      <td>5</td>\n",
       "      <td>14</td>\n",
       "      <td>2</td>\n",
       "      <td>4</td>\n",
       "      <td>7</td>\n",
       "      <td>5</td>\n",
       "      <td>Sky</td>\n",
       "      <td>3000</td>\n",
       "    </tr>\n",
       "  </tbody>\n",
       "</table>\n",
       "</div>"
      ],
      "text/plain": [
       "   option_set_id  model_id  engine_id  transmission_id  chassis_id  \\\n",
       "0              1         4          2                4           6   \n",
       "1              2         5          2                4           6   \n",
       "2              3         6          1                4           7   \n",
       "3              4        15          1                4           7   \n",
       "4              5        14          2                4           7   \n",
       "\n",
       "   premium_sound_id  COLOUR  PRICE  \n",
       "0                 5    Blue   2000  \n",
       "1                 5  Yellow   1200  \n",
       "2                 5   Green   1100  \n",
       "3                 5     Red   4000  \n",
       "4                 5     Sky   3000  "
      ]
     },
     "execution_count": 8,
     "metadata": {},
     "output_type": "execute_result"
    }
   ],
   "source": [
    "df = (car_options \n",
    "      >> tbs.to_statement \n",
    "      >> tbs.rename(COLOUR=T.color, PRICE=T.option_set_price) \n",
    "      >> tbs.head(num=5) \n",
    "      >> tbs.to_pandas(engine)); df"
   ]
  },
  {
   "cell_type": "markdown",
   "metadata": {},
   "source": [
    "### Unite columns with a separator"
   ]
  },
  {
   "cell_type": "code",
   "execution_count": 9,
   "metadata": {},
   "outputs": [
    {
     "data": {
      "text/html": [
       "<div>\n",
       "<style scoped>\n",
       "    .dataframe tbody tr th:only-of-type {\n",
       "        vertical-align: middle;\n",
       "    }\n",
       "\n",
       "    .dataframe tbody tr th {\n",
       "        vertical-align: top;\n",
       "    }\n",
       "\n",
       "    .dataframe thead th {\n",
       "        text-align: right;\n",
       "    }\n",
       "</style>\n",
       "<table border=\"1\" class=\"dataframe\">\n",
       "  <thead>\n",
       "    <tr style=\"text-align: right;\">\n",
       "      <th></th>\n",
       "      <th>option_set_id</th>\n",
       "      <th>model_id</th>\n",
       "      <th>engine_id</th>\n",
       "      <th>transmission_id</th>\n",
       "      <th>premium_sound_id</th>\n",
       "      <th>UNITED_COL</th>\n",
       "    </tr>\n",
       "  </thead>\n",
       "  <tbody>\n",
       "    <tr>\n",
       "      <th>0</th>\n",
       "      <td>1</td>\n",
       "      <td>4</td>\n",
       "      <td>2</td>\n",
       "      <td>4</td>\n",
       "      <td>5</td>\n",
       "      <td>6_2000_Blue</td>\n",
       "    </tr>\n",
       "    <tr>\n",
       "      <th>1</th>\n",
       "      <td>2</td>\n",
       "      <td>5</td>\n",
       "      <td>2</td>\n",
       "      <td>4</td>\n",
       "      <td>5</td>\n",
       "      <td>6_1200_Yellow</td>\n",
       "    </tr>\n",
       "    <tr>\n",
       "      <th>2</th>\n",
       "      <td>3</td>\n",
       "      <td>6</td>\n",
       "      <td>1</td>\n",
       "      <td>4</td>\n",
       "      <td>5</td>\n",
       "      <td>7_1100_Green</td>\n",
       "    </tr>\n",
       "    <tr>\n",
       "      <th>3</th>\n",
       "      <td>4</td>\n",
       "      <td>15</td>\n",
       "      <td>1</td>\n",
       "      <td>4</td>\n",
       "      <td>5</td>\n",
       "      <td>7_4000_Red</td>\n",
       "    </tr>\n",
       "    <tr>\n",
       "      <th>4</th>\n",
       "      <td>5</td>\n",
       "      <td>14</td>\n",
       "      <td>2</td>\n",
       "      <td>4</td>\n",
       "      <td>5</td>\n",
       "      <td>7_3000_Sky</td>\n",
       "    </tr>\n",
       "  </tbody>\n",
       "</table>\n",
       "</div>"
      ],
      "text/plain": [
       "   option_set_id  model_id  engine_id  transmission_id  premium_sound_id  \\\n",
       "0              1         4          2                4                 5   \n",
       "1              2         5          2                4                 5   \n",
       "2              3         6          1                4                 5   \n",
       "3              4        15          1                4                 5   \n",
       "4              5        14          2                4                 5   \n",
       "\n",
       "      UNITED_COL  \n",
       "0    6_2000_Blue  \n",
       "1  6_1200_Yellow  \n",
       "2   7_1100_Green  \n",
       "3     7_4000_Red  \n",
       "4     7_3000_Sky  "
      ]
     },
     "execution_count": 9,
     "metadata": {},
     "output_type": "execute_result"
    }
   ],
   "source": [
    "df = (car_options \n",
    "      >> tbs.to_statement\n",
    "      >> tbs.unite([T.chassis_id, T.option_set_price, T.color], \"UNITED_COL\", sep='_', remove=True)\n",
    "      >> tbs.head(num=5)\n",
    "      >> tbs.to_pandas(engine)\n",
    "     ); df"
   ]
  },
  {
   "cell_type": "markdown",
   "metadata": {},
   "source": [
    "### Performing joins"
   ]
  },
  {
   "cell_type": "markdown",
   "metadata": {},
   "source": [
    "Joins can be performed by specifying the tables that you want to join and the columns to join on."
   ]
  },
  {
   "cell_type": "code",
   "execution_count": 10,
   "metadata": {},
   "outputs": [],
   "source": [
    "Table1 = car_options >> tbs.to_statement \n",
    "Table2 = car_vins >> tbs.to_statement"
   ]
  },
  {
   "cell_type": "code",
   "execution_count": 11,
   "metadata": {},
   "outputs": [],
   "source": [
    "# Columns to join on\n",
    "Cols = (Table1.c.model_id== Table2.c.model_id) & (Table1.c.option_set_id == Table2.c.option_set_id)"
   ]
  },
  {
   "cell_type": "code",
   "execution_count": 12,
   "metadata": {},
   "outputs": [
    {
     "data": {
      "text/html": [
       "<div>\n",
       "<style scoped>\n",
       "    .dataframe tbody tr th:only-of-type {\n",
       "        vertical-align: middle;\n",
       "    }\n",
       "\n",
       "    .dataframe tbody tr th {\n",
       "        vertical-align: top;\n",
       "    }\n",
       "\n",
       "    .dataframe thead th {\n",
       "        text-align: right;\n",
       "    }\n",
       "</style>\n",
       "<table border=\"1\" class=\"dataframe\">\n",
       "  <thead>\n",
       "    <tr style=\"text-align: right;\">\n",
       "      <th></th>\n",
       "      <th>option_set_id</th>\n",
       "      <th>model_id</th>\n",
       "      <th>engine_id</th>\n",
       "      <th>transmission_id</th>\n",
       "      <th>chassis_id</th>\n",
       "      <th>premium_sound_id</th>\n",
       "      <th>color</th>\n",
       "      <th>option_set_price</th>\n",
       "      <th>vin</th>\n",
       "      <th>model_id</th>\n",
       "      <th>option_set_id</th>\n",
       "      <th>manufactured_date</th>\n",
       "      <th>manufactured_plant_id</th>\n",
       "    </tr>\n",
       "  </thead>\n",
       "  <tbody>\n",
       "    <tr>\n",
       "      <th>0</th>\n",
       "      <td>1</td>\n",
       "      <td>4</td>\n",
       "      <td>2</td>\n",
       "      <td>4</td>\n",
       "      <td>6</td>\n",
       "      <td>5</td>\n",
       "      <td>Blue</td>\n",
       "      <td>2000</td>\n",
       "      <td>5.0</td>\n",
       "      <td>4.0</td>\n",
       "      <td>1.0</td>\n",
       "      <td>2013-06-22</td>\n",
       "      <td>4.0</td>\n",
       "    </tr>\n",
       "    <tr>\n",
       "      <th>1</th>\n",
       "      <td>2</td>\n",
       "      <td>5</td>\n",
       "      <td>2</td>\n",
       "      <td>4</td>\n",
       "      <td>6</td>\n",
       "      <td>5</td>\n",
       "      <td>Yellow</td>\n",
       "      <td>1200</td>\n",
       "      <td>NaN</td>\n",
       "      <td>NaN</td>\n",
       "      <td>NaN</td>\n",
       "      <td>None</td>\n",
       "      <td>NaN</td>\n",
       "    </tr>\n",
       "    <tr>\n",
       "      <th>2</th>\n",
       "      <td>3</td>\n",
       "      <td>6</td>\n",
       "      <td>1</td>\n",
       "      <td>4</td>\n",
       "      <td>7</td>\n",
       "      <td>5</td>\n",
       "      <td>Green</td>\n",
       "      <td>1100</td>\n",
       "      <td>NaN</td>\n",
       "      <td>NaN</td>\n",
       "      <td>NaN</td>\n",
       "      <td>None</td>\n",
       "      <td>NaN</td>\n",
       "    </tr>\n",
       "    <tr>\n",
       "      <th>3</th>\n",
       "      <td>4</td>\n",
       "      <td>15</td>\n",
       "      <td>1</td>\n",
       "      <td>4</td>\n",
       "      <td>7</td>\n",
       "      <td>5</td>\n",
       "      <td>Red</td>\n",
       "      <td>4000</td>\n",
       "      <td>NaN</td>\n",
       "      <td>NaN</td>\n",
       "      <td>NaN</td>\n",
       "      <td>None</td>\n",
       "      <td>NaN</td>\n",
       "    </tr>\n",
       "    <tr>\n",
       "      <th>4</th>\n",
       "      <td>5</td>\n",
       "      <td>14</td>\n",
       "      <td>2</td>\n",
       "      <td>4</td>\n",
       "      <td>7</td>\n",
       "      <td>5</td>\n",
       "      <td>Sky</td>\n",
       "      <td>3000</td>\n",
       "      <td>2.0</td>\n",
       "      <td>14.0</td>\n",
       "      <td>5.0</td>\n",
       "      <td>2016-09-19</td>\n",
       "      <td>3.0</td>\n",
       "    </tr>\n",
       "  </tbody>\n",
       "</table>\n",
       "</div>"
      ],
      "text/plain": [
       "   option_set_id  model_id  engine_id  transmission_id  chassis_id  \\\n",
       "0              1         4          2                4           6   \n",
       "1              2         5          2                4           6   \n",
       "2              3         6          1                4           7   \n",
       "3              4        15          1                4           7   \n",
       "4              5        14          2                4           7   \n",
       "\n",
       "   premium_sound_id   color  option_set_price  vin  model_id  option_set_id  \\\n",
       "0                 5    Blue              2000  5.0       4.0            1.0   \n",
       "1                 5  Yellow              1200  NaN       NaN            NaN   \n",
       "2                 5   Green              1100  NaN       NaN            NaN   \n",
       "3                 5     Red              4000  NaN       NaN            NaN   \n",
       "4                 5     Sky              3000  2.0      14.0            5.0   \n",
       "\n",
       "  manufactured_date  manufactured_plant_id  \n",
       "0        2013-06-22                    4.0  \n",
       "1              None                    NaN  \n",
       "2              None                    NaN  \n",
       "3              None                    NaN  \n",
       "4        2016-09-19                    3.0  "
      ]
     },
     "execution_count": 12,
     "metadata": {},
     "output_type": "execute_result"
    }
   ],
   "source": [
    "df = (Table1 \n",
    "      >> tbs.left_join(Table2, onclause=Cols)\n",
    "      >> tbs.head(num=5) \n",
    "      >> tbs.to_pandas(engine)); df"
   ]
  },
  {
   "cell_type": "markdown",
   "metadata": {},
   "source": [
    "For more info on the library: {% fn 1 %}\n",
    "\n",
    "{{ 'Visit the [github](https://github.com/dqniellew1/tabletoolz).'  | fndetail: 1 }}"
   ]
  }
 ],
 "metadata": {
  "kernelspec": {
   "display_name": "Python 3",
   "language": "python",
   "name": "python3"
  },
  "language_info": {
   "codemirror_mode": {
    "name": "ipython",
    "version": 3
   },
   "file_extension": ".py",
   "mimetype": "text/x-python",
   "name": "python",
   "nbconvert_exporter": "python",
   "pygments_lexer": "ipython3",
   "version": "3.7.7-final"
  }
 },
 "nbformat": 4,
 "nbformat_minor": 4
}
